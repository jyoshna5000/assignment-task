{
 "cells": [
  {
   "cell_type": "raw",
   "id": "fe5528b9",
   "metadata": {},
   "source": [
    "1. write python code to create array in different ways."
   ]
  },
  {
   "cell_type": "code",
   "execution_count": 200,
   "id": "cc00bf25",
   "metadata": {},
   "outputs": [],
   "source": [
    "import numpy as np"
   ]
  },
  {
   "cell_type": "code",
   "execution_count": 201,
   "id": "be07652f",
   "metadata": {},
   "outputs": [
    {
     "data": {
      "text/plain": [
       "array([ 1,  2,  3,  4,  5,  6,  7,  8,  9, 10, 11, 12, 13, 14, 15, 16, 17,\n",
       "       18, 19, 20, 21, 22, 23, 24, 25, 26, 27, 28, 29, 30, 31, 32, 33, 34,\n",
       "       35, 36, 37, 38, 39, 40, 41, 42, 43, 44, 45, 46, 47, 48, 49])"
      ]
     },
     "execution_count": 201,
     "metadata": {},
     "output_type": "execute_result"
    }
   ],
   "source": [
    "arr = np.arange(1,50)\n",
    "arr"
   ]
  },
  {
   "cell_type": "code",
   "execution_count": 202,
   "id": "6fa66fc2",
   "metadata": {},
   "outputs": [
    {
     "data": {
      "text/plain": [
       "array([20, 30, 40, 50, 60, 70])"
      ]
     },
     "execution_count": 202,
     "metadata": {},
     "output_type": "execute_result"
    }
   ],
   "source": [
    "#method2\n",
    "arr = np.array([20,30,40,50,60,70])\n",
    "arr"
   ]
  },
  {
   "cell_type": "code",
   "execution_count": 203,
   "id": "73339d13",
   "metadata": {},
   "outputs": [
    {
     "data": {
      "text/plain": [
       "array([1, 9])"
      ]
     },
     "execution_count": 203,
     "metadata": {},
     "output_type": "execute_result"
    }
   ],
   "source": [
    "#method3\n",
    "arr = np.array([1,9])\n",
    "arr"
   ]
  },
  {
   "cell_type": "code",
   "execution_count": 129,
   "id": "56348a2a",
   "metadata": {},
   "outputs": [
    {
     "data": {
      "text/plain": [
       "numpy.ndarray"
      ]
     },
     "execution_count": 129,
     "metadata": {},
     "output_type": "execute_result"
    }
   ],
   "source": [
    "#method4\n",
    "arr = np.array([1,2,3,4,5,6,7,8])\n",
    "type(arr)"
   ]
  },
  {
   "cell_type": "code",
   "execution_count": 44,
   "id": "dba8772a",
   "metadata": {},
   "outputs": [],
   "source": [
    "# Creating array from list"
   ]
  },
  {
   "cell_type": "code",
   "execution_count": 204,
   "id": "ab3c0e30",
   "metadata": {},
   "outputs": [
    {
     "data": {
      "text/plain": [
       "array([1, 9])"
      ]
     },
     "execution_count": 204,
     "metadata": {},
     "output_type": "execute_result"
    }
   ],
   "source": [
    "#method5\n",
    "list=[40,50,60,70,80,90]\n",
    "np.array(list)\n",
    "arr"
   ]
  },
  {
   "cell_type": "code",
   "execution_count": 205,
   "id": "4ad79443",
   "metadata": {},
   "outputs": [
    {
     "data": {
      "text/plain": [
       "numpy.ndarray"
      ]
     },
     "execution_count": 205,
     "metadata": {},
     "output_type": "execute_result"
    }
   ],
   "source": [
    "type(arr)"
   ]
  },
  {
   "cell_type": "code",
   "execution_count": 206,
   "id": "ebcc2a6e",
   "metadata": {},
   "outputs": [
    {
     "data": {
      "text/plain": [
       "2"
      ]
     },
     "execution_count": 206,
     "metadata": {},
     "output_type": "execute_result"
    }
   ],
   "source": [
    "len(arr)"
   ]
  },
  {
   "cell_type": "code",
   "execution_count": 49,
   "id": "d1bdae7a",
   "metadata": {},
   "outputs": [
    {
     "data": {
      "text/plain": [
       "1499958986576"
      ]
     },
     "execution_count": 49,
     "metadata": {},
     "output_type": "execute_result"
    }
   ],
   "source": [
    "id(arr)"
   ]
  },
  {
   "cell_type": "code",
   "execution_count": 50,
   "id": "696e2ef7",
   "metadata": {},
   "outputs": [],
   "source": [
    "#creating array from tuple"
   ]
  },
  {
   "cell_type": "code",
   "execution_count": 207,
   "id": "52114ebe",
   "metadata": {},
   "outputs": [
    {
     "data": {
      "text/plain": [
       "array([2, 3, 4, 5, 6, 7, 8, 9, 0])"
      ]
     },
     "execution_count": 207,
     "metadata": {},
     "output_type": "execute_result"
    }
   ],
   "source": [
    "#method6\n",
    "tup=(2,3,4,5,6,7,8,9,0)\n",
    "np.array(tup)"
   ]
  },
  {
   "cell_type": "code",
   "execution_count": null,
   "id": "7c349265",
   "metadata": {},
   "outputs": [],
   "source": [
    "2.creating 1D array using numpy with 12 postive integers as arr1."
   ]
  },
  {
   "cell_type": "code",
   "execution_count": 208,
   "id": "44d8b042",
   "metadata": {},
   "outputs": [
    {
     "data": {
      "text/plain": [
       "array([ 1,  2,  3,  4,  5,  6,  7,  8,  9, 10, 11, 12])"
      ]
     },
     "execution_count": 208,
     "metadata": {},
     "output_type": "execute_result"
    }
   ],
   "source": [
    "arr1 = np.array([1,2,3,4,5,6,7,8,9,10,11,12])\n",
    "arr1"
   ]
  },
  {
   "cell_type": "code",
   "execution_count": 209,
   "id": "4221a2ed",
   "metadata": {},
   "outputs": [
    {
     "data": {
      "text/plain": [
       "1"
      ]
     },
     "execution_count": 209,
     "metadata": {},
     "output_type": "execute_result"
    }
   ],
   "source": [
    "arr1.ndim"
   ]
  },
  {
   "cell_type": "code",
   "execution_count": 37,
   "id": "4a55ae5a",
   "metadata": {},
   "outputs": [
    {
     "data": {
      "text/plain": [
       "array([ 1,  2,  3,  4,  5,  6,  7,  8,  9, 10, 11, 12])"
      ]
     },
     "execution_count": 37,
     "metadata": {},
     "output_type": "execute_result"
    }
   ],
   "source": [
    "arr1 = np.arange(1,13)\n",
    "arr1"
   ]
  },
  {
   "cell_type": "code",
   "execution_count": null,
   "id": "3a5687b3",
   "metadata": {},
   "outputs": [],
   "source": [
    "b. Create 1D numpy array1 with 20 elements containing integers between 0 and 12 using linspace."
   ]
  },
  {
   "cell_type": "code",
   "execution_count": 210,
   "id": "2d963271",
   "metadata": {},
   "outputs": [
    {
     "data": {
      "text/plain": [
       "array([ 0.        ,  0.63157895,  1.26315789,  1.89473684,  2.52631579,\n",
       "        3.15789474,  3.78947368,  4.42105263,  5.05263158,  5.68421053,\n",
       "        6.31578947,  6.94736842,  7.57894737,  8.21052632,  8.84210526,\n",
       "        9.47368421, 10.10526316, 10.73684211, 11.36842105, 12.        ])"
      ]
     },
     "execution_count": 210,
     "metadata": {},
     "output_type": "execute_result"
    }
   ],
   "source": [
    "array1 = np.linspace(0,12,20)\n",
    "array1"
   ]
  },
  {
   "cell_type": "code",
   "execution_count": null,
   "id": "b332388b",
   "metadata": {},
   "outputs": [],
   "source": [
    "3. Find all the attributes of array1 and array2"
   ]
  },
  {
   "cell_type": "code",
   "execution_count": 14,
   "id": "3ffe7ff7",
   "metadata": {},
   "outputs": [],
   "source": [
    "#array1"
   ]
  },
  {
   "cell_type": "code",
   "execution_count": 211,
   "id": "bda6c69a",
   "metadata": {},
   "outputs": [],
   "source": [
    "array1 = np.array([20,30,40,50,60,70,80,90,100])\n"
   ]
  },
  {
   "cell_type": "code",
   "execution_count": 212,
   "id": "d4a25244",
   "metadata": {},
   "outputs": [
    {
     "data": {
      "text/plain": [
       "dtype('int32')"
      ]
     },
     "execution_count": 212,
     "metadata": {},
     "output_type": "execute_result"
    }
   ],
   "source": [
    "array1.dtype"
   ]
  },
  {
   "cell_type": "code",
   "execution_count": 213,
   "id": "eb3b68a0",
   "metadata": {},
   "outputs": [
    {
     "data": {
      "text/plain": [
       "1"
      ]
     },
     "execution_count": 213,
     "metadata": {},
     "output_type": "execute_result"
    }
   ],
   "source": [
    "array1.ndim"
   ]
  },
  {
   "cell_type": "code",
   "execution_count": 214,
   "id": "bcc4cb72",
   "metadata": {},
   "outputs": [
    {
     "data": {
      "text/plain": [
       "9"
      ]
     },
     "execution_count": 214,
     "metadata": {},
     "output_type": "execute_result"
    }
   ],
   "source": [
    "array1.size"
   ]
  },
  {
   "cell_type": "code",
   "execution_count": 215,
   "id": "2014424f",
   "metadata": {},
   "outputs": [
    {
     "data": {
      "text/plain": [
       "36"
      ]
     },
     "execution_count": 215,
     "metadata": {},
     "output_type": "execute_result"
    }
   ],
   "source": [
    "array1.nbytes"
   ]
  },
  {
   "cell_type": "code",
   "execution_count": 216,
   "id": "069a1d77",
   "metadata": {},
   "outputs": [
    {
     "data": {
      "text/plain": [
       "4"
      ]
     },
     "execution_count": 216,
     "metadata": {},
     "output_type": "execute_result"
    }
   ],
   "source": [
    "array1.itemsize"
   ]
  },
  {
   "cell_type": "code",
   "execution_count": 217,
   "id": "b3f6f02d",
   "metadata": {},
   "outputs": [],
   "source": [
    "array2=np.array([200,300,400,500,600,700,800,900])"
   ]
  },
  {
   "cell_type": "code",
   "execution_count": 218,
   "id": "8d739890",
   "metadata": {},
   "outputs": [
    {
     "data": {
      "text/plain": [
       "dtype('int32')"
      ]
     },
     "execution_count": 218,
     "metadata": {},
     "output_type": "execute_result"
    }
   ],
   "source": [
    "array2.dtype"
   ]
  },
  {
   "cell_type": "code",
   "execution_count": 219,
   "id": "6a424459",
   "metadata": {},
   "outputs": [
    {
     "data": {
      "text/plain": [
       "1"
      ]
     },
     "execution_count": 219,
     "metadata": {},
     "output_type": "execute_result"
    }
   ],
   "source": [
    "array2.ndim"
   ]
  },
  {
   "cell_type": "code",
   "execution_count": 220,
   "id": "1b5bcc96",
   "metadata": {},
   "outputs": [
    {
     "data": {
      "text/plain": [
       "8"
      ]
     },
     "execution_count": 220,
     "metadata": {},
     "output_type": "execute_result"
    }
   ],
   "source": [
    "array2.size"
   ]
  },
  {
   "cell_type": "code",
   "execution_count": 221,
   "id": "3cd1ea98",
   "metadata": {},
   "outputs": [
    {
     "data": {
      "text/plain": [
       "32"
      ]
     },
     "execution_count": 221,
     "metadata": {},
     "output_type": "execute_result"
    }
   ],
   "source": [
    "array2.nbytes"
   ]
  },
  {
   "cell_type": "code",
   "execution_count": 100,
   "id": "7ed051f1",
   "metadata": {},
   "outputs": [
    {
     "data": {
      "text/plain": [
       "4"
      ]
     },
     "execution_count": 100,
     "metadata": {},
     "output_type": "execute_result"
    }
   ],
   "source": [
    "array2.itemsize"
   ]
  },
  {
   "cell_type": "code",
   "execution_count": null,
   "id": "4ba8bcaf",
   "metadata": {},
   "outputs": [],
   "source": [
    "4. Apply measure and describe the data(attributes and descriptive statastics) to above arrays using NumPy"
   ]
  },
  {
   "cell_type": "code",
   "execution_count": 222,
   "id": "14dad622",
   "metadata": {},
   "outputs": [],
   "source": [
    "array=np.array([8,9,0,5,6,7,8,9,0])"
   ]
  },
  {
   "cell_type": "code",
   "execution_count": 163,
   "id": "1f9a06c9",
   "metadata": {},
   "outputs": [],
   "source": [
    "#Measure of central tendency for array1"
   ]
  },
  {
   "cell_type": "code",
   "execution_count": 223,
   "id": "bcb73e00",
   "metadata": {},
   "outputs": [
    {
     "data": {
      "text/plain": [
       "5.777777777777778"
      ]
     },
     "execution_count": 223,
     "metadata": {},
     "output_type": "execute_result"
    }
   ],
   "source": [
    "array.mean()\n"
   ]
  },
  {
   "cell_type": "code",
   "execution_count": 224,
   "id": "ee84d619",
   "metadata": {},
   "outputs": [
    {
     "data": {
      "text/plain": [
       "7.0"
      ]
     },
     "execution_count": 224,
     "metadata": {},
     "output_type": "execute_result"
    }
   ],
   "source": [
    "np.median(array)\n"
   ]
  },
  {
   "cell_type": "code",
   "execution_count": null,
   "id": "ecdc8671",
   "metadata": {},
   "outputs": [],
   "source": [
    "#Measure of spread array2"
   ]
  },
  {
   "cell_type": "code",
   "execution_count": 225,
   "id": "40098d94",
   "metadata": {},
   "outputs": [
    {
     "data": {
      "text/plain": [
       "80"
      ]
     },
     "execution_count": 225,
     "metadata": {},
     "output_type": "execute_result"
    }
   ],
   "source": [
    "range =np.max(array1)-min(array1) \n",
    "range"
   ]
  },
  {
   "cell_type": "code",
   "execution_count": 226,
   "id": "58bd1af9",
   "metadata": {},
   "outputs": [
    {
     "data": {
      "text/plain": [
       "666.6666666666666"
      ]
     },
     "execution_count": 226,
     "metadata": {},
     "output_type": "execute_result"
    }
   ],
   "source": [
    "#variance\n",
    "np.var(array1)"
   ]
  },
  {
   "cell_type": "code",
   "execution_count": 227,
   "id": "28f2e038",
   "metadata": {},
   "outputs": [
    {
     "data": {
      "text/plain": [
       "25.81988897471611"
      ]
     },
     "execution_count": 227,
     "metadata": {},
     "output_type": "execute_result"
    }
   ],
   "source": [
    "#standard deviation\n",
    "np.std(array1)\n"
   ]
  },
  {
   "cell_type": "code",
   "execution_count": 228,
   "id": "cf472496",
   "metadata": {},
   "outputs": [],
   "source": [
    "#IQR"
   ]
  },
  {
   "cell_type": "code",
   "execution_count": 229,
   "id": "deb1bfb6",
   "metadata": {},
   "outputs": [
    {
     "data": {
      "text/plain": [
       "40.0"
      ]
     },
     "execution_count": 229,
     "metadata": {},
     "output_type": "execute_result"
    }
   ],
   "source": [
    "q1 =np.percentile(array1,25)\n",
    "q1"
   ]
  },
  {
   "cell_type": "code",
   "execution_count": 230,
   "id": "ea39574c",
   "metadata": {},
   "outputs": [
    {
     "data": {
      "text/plain": [
       "60.0"
      ]
     },
     "execution_count": 230,
     "metadata": {},
     "output_type": "execute_result"
    }
   ],
   "source": [
    "q2 =np.percentile(array1,50)\n",
    "q2"
   ]
  },
  {
   "cell_type": "code",
   "execution_count": 231,
   "id": "af76ad61",
   "metadata": {},
   "outputs": [
    {
     "data": {
      "text/plain": [
       "76.0"
      ]
     },
     "execution_count": 231,
     "metadata": {},
     "output_type": "execute_result"
    }
   ],
   "source": [
    "q3 = np.percentile(array1,70)\n",
    "q3"
   ]
  },
  {
   "cell_type": "code",
   "execution_count": 233,
   "id": "56fb664b",
   "metadata": {},
   "outputs": [
    {
     "data": {
      "text/plain": [
       "36.0"
      ]
     },
     "execution_count": 233,
     "metadata": {},
     "output_type": "execute_result"
    }
   ],
   "source": [
    "IQR = q3-q1\n",
    "IQR"
   ]
  },
  {
   "cell_type": "code",
   "execution_count": 234,
   "id": "e1e69df8",
   "metadata": {},
   "outputs": [
    {
     "data": {
      "text/plain": [
       "-14.0"
      ]
     },
     "execution_count": 234,
     "metadata": {},
     "output_type": "execute_result"
    }
   ],
   "source": [
    "lower_limit=q1- (1.5 * IQR)\n",
    "lower_limit"
   ]
  },
  {
   "cell_type": "code",
   "execution_count": 235,
   "id": "d6e98be1",
   "metadata": {},
   "outputs": [
    {
     "data": {
      "text/plain": [
       "6.0"
      ]
     },
     "execution_count": 235,
     "metadata": {},
     "output_type": "execute_result"
    }
   ],
   "source": [
    "upper_limit =q2- (1.5 * IQR)\n",
    "upper_limit "
   ]
  },
  {
   "cell_type": "code",
   "execution_count": 236,
   "id": "bf104c8f",
   "metadata": {},
   "outputs": [
    {
     "data": {
      "text/plain": [
       "array([ 20,  30,  40,  50,  60,  70,  80,  90, 100])"
      ]
     },
     "execution_count": 236,
     "metadata": {},
     "output_type": "execute_result"
    }
   ],
   "source": [
    "array1"
   ]
  },
  {
   "cell_type": "code",
   "execution_count": 240,
   "id": "6e11b8a8",
   "metadata": {},
   "outputs": [
    {
     "data": {
      "text/plain": [
       "array([ True,  True, False, False, False,  True,  True,  True, False])"
      ]
     },
     "execution_count": 240,
     "metadata": {},
     "output_type": "execute_result"
    }
   ],
   "source": [
    "array>upper_limit"
   ]
  },
  {
   "cell_type": "code",
   "execution_count": null,
   "id": "b6447621",
   "metadata": {},
   "outputs": [],
   "source": []
  }
 ],
 "metadata": {
  "kernelspec": {
   "display_name": "Python 3 (ipykernel)",
   "language": "python",
   "name": "python3"
  },
  "language_info": {
   "codemirror_mode": {
    "name": "ipython",
    "version": 3
   },
   "file_extension": ".py",
   "mimetype": "text/x-python",
   "name": "python",
   "nbconvert_exporter": "python",
   "pygments_lexer": "ipython3",
   "version": "3.11.4"
  }
 },
 "nbformat": 4,
 "nbformat_minor": 5
}
