{
 "cells": [
  {
   "cell_type": "markdown",
   "id": "8060b9a4",
   "metadata": {},
   "source": [
    "**while loops and their use in programming.**\n",
    "1. Write a Python program that uses a while loop to print the numbers from `A` to `P`.\n",
    "\n",
    "2. Modify the program to print only the even numbers from `1 to 20 except mutiple of 3` using a while loop.\n",
    "\n",
    "3. Create a program that prompts the user for an integer input and then uses a while loop to print the countdown from `that number to 1`.\n",
    "\n",
    "\n",
    "4. Write a Python program that uses a while loop to repeatedly ask the user to enter a number. If the user enters 0, exit the loop using the `break` statement. Otherwise, continue prompting for numbers.\n",
    "\n",
    "5. Create a program that uses a while loop to print the numbers from 1 to 20, but skip printing the numbers 5, 10, and 15 using the `continue` statement.\n",
    "\n",
    "6. Write a Python program that simulates a simple password entry system. Ask the user to enter a password, and use a while loop to repeatedly prompt for the password until the correct password \"abc123\" is entered. Once the correct password is entered, exit the loop.\n",
    "\n",
    "7. Calculate and print the sum of all the positive integers entered by the user.\n",
    "\n",
    "\n",
    "\n",
    "."
   ]
  },
  {
   "cell_type": "code",
   "execution_count": null,
   "id": "f9501fc9",
   "metadata": {},
   "outputs": [],
   "source": [
    "Write a Python program that uses a while loop to print the numbers from A to P\n"
   ]
  },
  {
   "cell_type": "code",
   "execution_count": 1,
   "id": "d9937be9",
   "metadata": {},
   "outputs": [
    {
     "name": "stdout",
     "output_type": "stream",
     "text": [
      "A\n",
      "B\n",
      "C\n",
      "D\n",
      "E\n",
      "F\n",
      "G\n",
      "H\n",
      "I\n",
      "J\n",
      "K\n",
      "L\n",
      "M\n",
      "N\n",
      "O\n",
      "P\n"
     ]
    }
   ],
   "source": [
    "a=0\n",
    "while a<=15:\n",
    "    print(chr(65+a))\n",
    "    a=a+1"
   ]
  },
  {
   "cell_type": "markdown",
   "id": "8f9c6ba9",
   "metadata": {},
   "source": [
    "2.Modify the program to print only the even numbers from 1 to 20 except mutiple of 3 using a while loop"
   ]
  },
  {
   "cell_type": "code",
   "execution_count": 3,
   "id": "27947222",
   "metadata": {},
   "outputs": [
    {
     "name": "stdout",
     "output_type": "stream",
     "text": [
      "2\n",
      "4\n",
      "8\n",
      "10\n",
      "14\n",
      "16\n",
      "20\n"
     ]
    }
   ],
   "source": [
    "a=1\n",
    "while a<=20:\n",
    "    if (a%2==0) and (a%3!=0):\n",
    "        print(a)\n",
    "    a=a+1"
   ]
  },
  {
   "cell_type": "markdown",
   "id": "ba112dd3",
   "metadata": {},
   "source": [
    "Create a program that prompts the user for an integer input and then uses a while loop to print the countdown from that number to 1."
   ]
  },
  {
   "cell_type": "code",
   "execution_count": 4,
   "id": "fb44f45e",
   "metadata": {},
   "outputs": [
    {
     "name": "stdout",
     "output_type": "stream",
     "text": [
      "enter a number::45\n",
      "45\n",
      "44\n",
      "43\n",
      "42\n",
      "41\n",
      "40\n",
      "39\n",
      "38\n",
      "37\n",
      "36\n",
      "35\n",
      "34\n",
      "33\n",
      "32\n",
      "31\n",
      "30\n",
      "29\n",
      "28\n",
      "27\n",
      "26\n",
      "25\n",
      "24\n",
      "23\n",
      "22\n",
      "21\n",
      "20\n",
      "19\n",
      "18\n",
      "17\n",
      "16\n",
      "15\n",
      "14\n",
      "13\n",
      "12\n",
      "11\n",
      "10\n",
      "9\n",
      "8\n",
      "7\n",
      "6\n",
      "5\n",
      "4\n",
      "3\n",
      "2\n",
      "1\n"
     ]
    }
   ],
   "source": [
    "n=int(input(\"enter a number::\"))\n",
    "while 1<=n:\n",
    "    print(n)\n",
    "    n=n-1"
   ]
  },
  {
   "cell_type": "markdown",
   "id": "312fd452",
   "metadata": {},
   "source": [
    "Write a Python program that uses a while loop to repeatedly ask the user to enter a number. If the user enters 0, exit the loop using the break statement. Otherwise, continue prompting for numbers."
   ]
  },
  {
   "cell_type": "code",
   "execution_count": 7,
   "id": "c716476f",
   "metadata": {},
   "outputs": [
    {
     "name": "stdout",
     "output_type": "stream",
     "text": [
      "enter a number::67\n",
      "enter a number::65\n",
      "enter a number::878\n",
      "enter a number::656\n",
      "enter a number::7\n",
      "enter a number::8\n",
      "enter a number::0\n"
     ]
    }
   ],
   "source": [
    "a=int(input(\"enter a number::\"))\n",
    "while a!=0:\n",
    "    a=int(input(\"enter a number::\"))\n",
    "    continue\n",
    "    if a==0:\n",
    "        break\n",
    "        \n",
    "    "
   ]
  },
  {
   "cell_type": "markdown",
   "id": "ebc8cf92",
   "metadata": {},
   "source": [
    ". Create a program that uses a while loop to print the numbers from 1 to 20, but skip printing the numbers 5, 10, and 15 using the `continue` statement."
   ]
  },
  {
   "cell_type": "code",
   "execution_count": 8,
   "id": "36e7cb43",
   "metadata": {},
   "outputs": [
    {
     "name": "stdout",
     "output_type": "stream",
     "text": [
      "1\n",
      "2\n",
      "3\n",
      "4\n",
      "6\n",
      "7\n",
      "8\n",
      "9\n",
      "11\n",
      "12\n",
      "13\n",
      "14\n",
      "16\n",
      "17\n",
      "18\n",
      "19\n",
      "20\n"
     ]
    }
   ],
   "source": [
    "a=1\n",
    "while a<=20:\n",
    "    if a not in (5,10,15):\n",
    "        print(a)\n",
    "    a=a+1\n",
    "    "
   ]
  },
  {
   "cell_type": "markdown",
   "id": "d7076aac",
   "metadata": {},
   "source": [
    " Write a Python program that simulates a simple password entry system. Ask the user to enter a password, and use a while loop to repeatedly prompt for the password until the correct password \"abc123\" is entered. Once the correct password is entered, exit the loop."
   ]
  },
  {
   "cell_type": "code",
   "execution_count": null,
   "id": "9a678b4d",
   "metadata": {},
   "outputs": [],
   "source": [
    "password=\"abc123\"\n",
    "while password:\n",
    "    user=input(\"enter your password:\")\n",
    "    if user==password:\n",
    "        print(\"Logged in \")\n",
    "        break\n",
    "    else:\n",
    "        print(\"wrong password\")\n",
    "        "
   ]
  },
  {
   "cell_type": "markdown",
   "id": "a0b341cf",
   "metadata": {},
   "source": [
    ". Calculate and print the sum of all the positive integers entered by the user.\n"
   ]
  },
  {
   "cell_type": "code",
   "execution_count": null,
   "id": "ca42efbe",
   "metadata": {},
   "outputs": [],
   "source": [
    "b=int(input(\"enter the number:\"))\n",
    "total=b\n",
    "while b:\n",
    "    if b>0:\n",
    "        b=int(input(\"enter the number:\"))\n",
    "        total+=b\n",
    "        print(total)\n",
    "    else:\n",
    "        break"
   ]
  },
  {
   "cell_type": "code",
   "execution_count": null,
   "id": "650bd760",
   "metadata": {},
   "outputs": [],
   "source": []
  },
  {
   "cell_type": "code",
   "execution_count": null,
   "id": "0bb84b6a",
   "metadata": {},
   "outputs": [],
   "source": []
  }
 ],
 "metadata": {
  "kernelspec": {
   "display_name": "Python 3 (ipykernel)",
   "language": "python",
   "name": "python3"
  },
  "language_info": {
   "codemirror_mode": {
    "name": "ipython",
    "version": 3
   },
   "file_extension": ".py",
   "mimetype": "text/x-python",
   "name": "python",
   "nbconvert_exporter": "python",
   "pygments_lexer": "ipython3",
   "version": "3.11.4"
  }
 },
 "nbformat": 4,
 "nbformat_minor": 5
}
